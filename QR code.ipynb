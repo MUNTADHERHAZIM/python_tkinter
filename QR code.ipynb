{
 "cells": [
  {
   "cell_type": "code",
   "execution_count": 6,
   "metadata": {},
   "outputs": [
    {
     "name": "stdout",
     "output_type": "stream",
     "text": [
      "QR code generated!\n"
     ]
    }
   ],
   "source": [
    "\n",
    "\n",
    "import pyqrcode\n",
    "\n",
    "# string which represent the QR code\n",
    "\n",
    "s = \"https://www.youtube.com/channel/UC8wZnXYK_CGKlBcZp-GxYPA\"\n",
    "\n",
    "# Generate QR code\n",
    "url = pyqrcode.create(s)\n",
    "\n",
    "# Create and save the png file naming \"myqr.png\"\n",
    "url.svg(\"myyoe.png\", scale=8)\n",
    "\n",
    "print(\"QR code generated!\")\n",
    "\n",
    "\n",
    "\n"
   ]
  },
  {
   "cell_type": "code",
   "execution_count": 3,
   "metadata": {},
   "outputs": [
    {
     "name": "stdout",
     "output_type": "stream",
     "text": [
      "QR code generated!\n"
     ]
    }
   ],
   "source": [
    "import segno \n",
    "\n",
    "# string which represent the QR code\n",
    "\n",
    "s = \"https://www.youtube.com/channel/UC8wZnXYK_CGKlBcZp-GxYPA\"\n",
    "\n",
    "# Generate QR code\n",
    "qr = segno.make(s)\n",
    "\n",
    "# Create and save the png file naming \"myqr.png\"\n",
    "\n",
    "qr.save(\"myyoutube.png\", scale=8)\n",
    "\n",
    "print(\"QR code generated!\")\n",
    "\n"
   ]
  },
  {
   "cell_type": "code",
   "execution_count": 8,
   "metadata": {},
   "outputs": [],
   "source": [
    "# Create qr code all in one line\n",
    "\n",
    "\n",
    "import segno\n",
    "\n",
    "# create QR code instance\n",
    "\n",
    "qr = segno.make('https://www.youtube.com/channel/UC8wZnXYK_CGKlBcZp-GxYPA')\n",
    "\n",
    "# save the qr code in png format with name myqr\n",
    "qr.save('myyoutue.png',scale=8)\n",
    "\n"
   ]
  }
 ],
 "metadata": {
  "kernelspec": {
   "display_name": ".venv",
   "language": "python",
   "name": "python3"
  },
  "language_info": {
   "codemirror_mode": {
    "name": "ipython",
    "version": 3
   },
   "file_extension": ".py",
   "mimetype": "text/x-python",
   "name": "python",
   "nbconvert_exporter": "python",
   "pygments_lexer": "ipython3",
   "version": "3.10.12"
  }
 },
 "nbformat": 4,
 "nbformat_minor": 2
}
